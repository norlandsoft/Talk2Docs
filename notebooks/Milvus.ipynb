{
 "cells": [
  {
   "cell_type": "code",
   "execution_count": null,
   "id": "initial_id",
   "metadata": {
    "collapsed": true
   },
   "outputs": [],
   "source": [
    "from pymilvus import (\n",
    "    connections,\n",
    "    FieldSchema, CollectionSchema, DataType,\n",
    "    Collection, db\n",
    ")"
   ]
  },
  {
   "cell_type": "code",
   "outputs": [],
   "source": [
    "# 连接到 Milvus\n",
    "conn = connections.connect(host=\"39.107.123.26\", port=19530, db_name=\"air\")\n",
    "\n",
    "# 列出数据库\n",
    "#database = db.list_database()"
   ],
   "metadata": {
    "collapsed": false
   },
   "id": "d34806b0addb5e71",
   "execution_count": null
  },
  {
   "cell_type": "code",
   "outputs": [],
   "source": [
    "# 在数据库 air 中创建 collection\n",
    "field1 = FieldSchema(name=\"id\", dtype=DataType.INT64, is_primary=True, auto_id=True)\n",
    "field2 = FieldSchema(name=\"vec\", dtype=DataType.FLOAT_VECTOR, dim=8)\n",
    "schema = CollectionSchema(fields=[field1, field2], description=\"air collection\")\n",
    "\n",
    "collection_name = \"air_collection\"\n",
    "collection = Collection(name=collection_name, schema=schema)"
   ],
   "metadata": {
    "collapsed": false
   },
   "id": "7a8b1341d420e413",
   "execution_count": null
  }
 ],
 "metadata": {
  "kernelspec": {
   "display_name": "Python 3",
   "language": "python",
   "name": "python3"
  },
  "language_info": {
   "codemirror_mode": {
    "name": "ipython",
    "version": 2
   },
   "file_extension": ".py",
   "mimetype": "text/x-python",
   "name": "python",
   "nbconvert_exporter": "python",
   "pygments_lexer": "ipython2",
   "version": "2.7.6"
  }
 },
 "nbformat": 4,
 "nbformat_minor": 5
}
